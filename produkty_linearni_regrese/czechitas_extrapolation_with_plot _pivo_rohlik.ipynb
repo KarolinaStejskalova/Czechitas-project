{
 "cells": [
  {
   "cell_type": "code",
   "execution_count": 1,
   "id": "e7591615",
   "metadata": {},
   "outputs": [],
   "source": [
    "# Import packages\n",
    "import pandas as pd\n",
    "import numpy as np\n",
    "import matplotlib.pyplot as plt"
   ]
  },
  {
   "cell_type": "code",
   "execution_count": 2,
   "id": "b456e53f",
   "metadata": {},
   "outputs": [],
   "source": [
    "# Load data\n",
    "data = pd.read_csv('pivo.csv')"
   ]
  },
  {
   "cell_type": "code",
   "execution_count": 3,
   "id": "68f3fe85",
   "metadata": {},
   "outputs": [
    {
     "name": "stdout",
     "output_type": "stream",
     "text": [
      "   CSU_ID                              ITEM_NAME  YEAR  MONTH  CSU_AVG_PRICE  \\\n",
      "0  213201  Pivo výčepní, světlé, lahvové [0,5 l]  2020      1          11.78   \n",
      "1  213201  Pivo výčepní, světlé, lahvové [0,5 l]  2020      2          11.46   \n",
      "2  213201  Pivo výčepní, světlé, lahvové [0,5 l]  2020      3          12.07   \n",
      "3  213201  Pivo výčepní, světlé, lahvové [0,5 l]  2020      4          11.35   \n",
      "4  213201  Pivo výčepní, světlé, lahvové [0,5 l]  2020      5          11.90   \n",
      "\n",
      "   ROHLIK_AVG_PRICE  KOSIK_AVG_PRICE  ITESCO_AVG_PRICE  ROHLIK_DIFF_FROM_CSU  \\\n",
      "0         18.416129        26.736253         19.777969             -6.636129   \n",
      "1         18.400000        26.826433         19.659841             -6.940000   \n",
      "2         18.609434        26.029914         19.654983             -6.539434   \n",
      "3         19.524260        27.679758         19.450369             -8.174260   \n",
      "4         19.566667        28.854463         19.004101             -7.666667   \n",
      "\n",
      "   KOSIK_DIFF_FROM_CSU  ITESCO_DIFF_FROM_CSU  ROHLIK_MIN_PRICE  \\\n",
      "0           -14.956253             -7.997969              13.9   \n",
      "1           -15.366433             -8.199841              13.9   \n",
      "2           -13.959914             -7.584983              13.9   \n",
      "3           -16.329758             -8.100369              13.9   \n",
      "4           -16.954463             -7.104101              13.9   \n",
      "\n",
      "   KOSIK_MIN_PRICE  ITESCO_MIN_PRICE  ROHLIK_MAX_PRICE  KOSIK_MAX_PRICE  \\\n",
      "0             12.9          7.966667              23.9        45.303030   \n",
      "1             12.9          8.900000              22.9        45.303030   \n",
      "2             11.9          7.475000              22.9        45.303030   \n",
      "3             11.9          9.900000              22.9        52.878788   \n",
      "4             11.9          8.725000              22.9        52.878788   \n",
      "\n",
      "   ITESCO_MAX_PRICE  ROHLIK_VAR_PRICE  KOSIK_VAR_PRICE  ITESCO_VAR_PRICE  \n",
      "0         99.950000         20.493666       118.101475        106.276290  \n",
      "1         77.323944         20.337662       125.425962        131.208527  \n",
      "2         77.323944         19.312979       110.122505        135.529104  \n",
      "3         77.323944         16.217451       129.906958        132.431981  \n",
      "4         77.323944         16.265948       159.181901        102.191958  \n"
     ]
    }
   ],
   "source": [
    "print(data.head())"
   ]
  },
  {
   "cell_type": "code",
   "execution_count": 4,
   "id": "382c8a56",
   "metadata": {},
   "outputs": [],
   "source": [
    "data = data[['YEAR', 'MONTH', 'ROHLIK_AVG_PRICE']]"
   ]
  },
  {
   "cell_type": "code",
   "execution_count": 5,
   "id": "f9fc29ce",
   "metadata": {},
   "outputs": [
    {
     "name": "stdout",
     "output_type": "stream",
     "text": [
      "   YEAR  MONTH  ROHLIK_AVG_PRICE\n",
      "0  2020      1         18.416129\n",
      "1  2020      2         18.400000\n",
      "2  2020      3         18.609434\n",
      "3  2020      4         19.524260\n",
      "4  2020      5         19.566667\n"
     ]
    }
   ],
   "source": [
    "print(data.head())"
   ]
  },
  {
   "cell_type": "code",
   "execution_count": 6,
   "id": "0fbcd58f",
   "metadata": {},
   "outputs": [],
   "source": [
    "data['YEAR_MONTH'] = data.YEAR.astype(str) + '/' + data.MONTH.astype(str)"
   ]
  },
  {
   "cell_type": "code",
   "execution_count": 7,
   "id": "b97887e0",
   "metadata": {},
   "outputs": [
    {
     "name": "stdout",
     "output_type": "stream",
     "text": [
      "   YEAR  MONTH  ROHLIK_AVG_PRICE YEAR_MONTH\n",
      "0  2020      1         18.416129     2020/1\n",
      "1  2020      2         18.400000     2020/2\n",
      "2  2020      3         18.609434     2020/3\n",
      "3  2020      4         19.524260     2020/4\n",
      "4  2020      5         19.566667     2020/5\n"
     ]
    }
   ],
   "source": [
    "print(data.head())"
   ]
  },
  {
   "cell_type": "code",
   "execution_count": 8,
   "id": "e71d3c26",
   "metadata": {},
   "outputs": [
    {
     "data": {
      "image/png": "[encoded data removed]",
      "text/plain": [
       "<Figure size 640x480 with 1 Axes>"
      ]
     },
     "metadata": {},
     "output_type": "display_data"
    }
   ],
   "source": [
    "plt.plot(data['YEAR_MONTH'], data['ROHLIK_AVG_PRICE'])\n",
    "plt.show()"
   ]
  },
  {
   "cell_type": "code",
   "execution_count": 9,
   "id": "80fca783",
   "metadata": {},
   "outputs": [],
   "source": [
    "from sklearn import linear_model\n",
    "X_train = data[['YEAR', 'MONTH']]\n",
    "y_train = data[['ROHLIK_AVG_PRICE']]"
   ]
  },
  {
   "cell_type": "code",
   "execution_count": 10,
   "id": "6ccd822c",
   "metadata": {},
   "outputs": [
    {
     "data": {
      "text/html": [
       "<style>#sk-container-id-1 {color: black;background-color: white;}#sk-container-id-1 pre{padding: 0;}#sk-container-id-1 div.sk-toggleable {background-color: white;}#sk-container-id-1 label.sk-toggleable__label {cursor: pointer;display: block;width: 100%;margin-bottom: 0;padding: 0.3em;box-sizing: border-box;text-align: center;}#sk-container-id-1 label.sk-toggleable__label-arrow:before {content: \"▸\";float: left;margin-right: 0.25em;color: #696969;}#sk-container-id-1 label.sk-toggleable__label-arrow:hover:before {color: black;}#sk-container-id-1 div.sk-estimator:hover label.sk-toggleable__label-arrow:before {color: black;}#sk-container-id-1 div.sk-toggleable__content {max-height: 0;max-width: 0;overflow: hidden;text-align: left;background-color: #f0f8ff;}#sk-container-id-1 div.sk-toggleable__content pre {margin: 0.2em;color: black;border-radius: 0.25em;background-color: #f0f8ff;}#sk-container-id-1 input.sk-toggleable__control:checked~div.sk-toggleable__content {max-height: 200px;max-width: 100%;overflow: auto;}#sk-container-id-1 input.sk-toggleable__control:checked~label.sk-toggleable__label-arrow:before {content: \"▾\";}#sk-container-id-1 div.sk-estimator input.sk-toggleable__control:checked~label.sk-toggleable__label {background-color: #d4ebff;}#sk-container-id-1 div.sk-label input.sk-toggleable__control:checked~label.sk-toggleable__label {background-color: #d4ebff;}#sk-container-id-1 input.sk-hidden--visually {border: 0;clip: rect(1px 1px 1px 1px);clip: rect(1px, 1px, 1px, 1px);height: 1px;margin: -1px;overflow: hidden;padding: 0;position: absolute;width: 1px;}#sk-container-id-1 div.sk-estimator {font-family: monospace;background-color: #f0f8ff;border: 1px dotted black;border-radius: 0.25em;box-sizing: border-box;margin-bottom: 0.5em;}#sk-container-id-1 div.sk-estimator:hover {background-color: #d4ebff;}#sk-container-id-1 div.sk-parallel-item::after {content: \"\";width: 100%;border-bottom: 1px solid gray;flex-grow: 1;}#sk-container-id-1 div.sk-label:hover label.sk-toggleable__label {background-color: #d4ebff;}#sk-container-id-1 div.sk-serial::before {content: \"\";position: absolute;border-left: 1px solid gray;box-sizing: border-box;top: 0;bottom: 0;left: 50%;z-index: 0;}#sk-container-id-1 div.sk-serial {display: flex;flex-direction: column;align-items: center;background-color: white;padding-right: 0.2em;padding-left: 0.2em;position: relative;}#sk-container-id-1 div.sk-item {position: relative;z-index: 1;}#sk-container-id-1 div.sk-parallel {display: flex;align-items: stretch;justify-content: center;background-color: white;position: relative;}#sk-container-id-1 div.sk-item::before, #sk-container-id-1 div.sk-parallel-item::before {content: \"\";position: absolute;border-left: 1px solid gray;box-sizing: border-box;top: 0;bottom: 0;left: 50%;z-index: -1;}#sk-container-id-1 div.sk-parallel-item {display: flex;flex-direction: column;z-index: 1;position: relative;background-color: white;}#sk-container-id-1 div.sk-parallel-item:first-child::after {align-self: flex-end;width: 50%;}#sk-container-id-1 div.sk-parallel-item:last-child::after {align-self: flex-start;width: 50%;}#sk-container-id-1 div.sk-parallel-item:only-child::after {width: 0;}#sk-container-id-1 div.sk-dashed-wrapped {border: 1px dashed gray;margin: 0 0.4em 0.5em 0.4em;box-sizing: border-box;padding-bottom: 0.4em;background-color: white;}#sk-container-id-1 div.sk-label label {font-family: monospace;font-weight: bold;display: inline-block;line-height: 1.2em;}#sk-container-id-1 div.sk-label-container {text-align: center;}#sk-container-id-1 div.sk-container {/* jupyter's `normalize.less` sets `[hidden] { display: none; }` but bootstrap.min.css set `[hidden] { display: none !important; }` so we also need the `!important` here to be able to override the default hidden behavior on the sphinx rendered scikit-learn.org. See: https://github.com/scikit-learn/scikit-learn/issues/21755 */display: inline-block !important;position: relative;}#sk-container-id-1 div.sk-text-repr-fallback {display: none;}</style><div id=\"sk-container-id-1\" class=\"sk-top-container\"><div class=\"sk-text-repr-fallback\"><pre>LinearRegression()</pre><b>In a Jupyter environment, please rerun this cell to show the HTML representation or trust the notebook. <br />On GitHub, the HTML representation is unable to render, please try loading this page with nbviewer.org.</b></div><div class=\"sk-container\" hidden><div class=\"sk-item\"><div class=\"sk-estimator sk-toggleable\"><input class=\"sk-toggleable__control sk-hidden--visually\" id=\"sk-estimator-id-1\" type=\"checkbox\" checked><label for=\"sk-estimator-id-1\" class=\"sk-toggleable__label sk-toggleable__label-arrow\">LinearRegression</label><div class=\"sk-toggleable__content\"><pre>LinearRegression()</pre></div></div></div></div></div>"
      ],
      "text/plain": [
       "LinearRegression()"
      ]
     },
     "execution_count": 10,
     "metadata": {},
     "output_type": "execute_result"
    }
   ],
   "source": [
    "# Define the model\n",
    "linear_regression = linear_model.LinearRegression()\n",
    "linear_regression.fit(X_train, y_train)"
   ]
  },
  {
   "cell_type": "code",
   "execution_count": 11,
   "id": "6d4ed922",
   "metadata": {},
   "outputs": [],
   "source": [
    "# Generate forecast\n",
    "d = {'YEAR': [2022, 2022, 2022, 2023, 2023, 2023, 2023, 2023, 2023, 2023, 2023, 2023, 2023, 2023, 2023], 'MONTH': pd.Series([10, 11, 12, 1, 2, 3, 4, 5, 6, 7, 8, 9, 10, 11, 12])}\n",
    "X_val = pd.DataFrame(data=d, index=[0, 1, 2, 3, 4, 5, 6, 7, 8, 9, 10, 11, 12, 13, 14])"
   ]
  },
  {
   "cell_type": "code",
   "execution_count": 12,
   "id": "aae9a5e5",
   "metadata": {},
   "outputs": [],
   "source": [
    "# Generate forecast\n",
    "y_val = linear_regression.predict(X_val)"
   ]
  },
  {
   "cell_type": "code",
   "execution_count": 13,
   "id": "6efcd0cc",
   "metadata": {},
   "outputs": [],
   "source": [
    "X_val['ROHLIK_AVG_PRICE'] = y_val"
   ]
  },
  {
   "cell_type": "code",
   "execution_count": 14,
   "id": "6fe6febe",
   "metadata": {},
   "outputs": [],
   "source": [
    "X_val['YEAR_MONTH'] = X_val.YEAR.astype(str) + '/' + X_val.MONTH.astype(str)"
   ]
  },
  {
   "cell_type": "code",
   "execution_count": 15,
   "id": "560ba938",
   "metadata": {},
   "outputs": [
    {
     "name": "stdout",
     "output_type": "stream",
     "text": [
      "   YEAR  MONTH  ROHLIK_AVG_PRICE YEAR_MONTH\n",
      "0  2022     10         21.711540    2022/10\n",
      "1  2022     11         21.800812    2022/11\n",
      "2  2022     12         21.890084    2022/12\n",
      "3  2023      1         21.919412     2023/1\n",
      "4  2023      2         22.008684     2023/2\n"
     ]
    }
   ],
   "source": [
    "print(X_val.head())"
   ]
  },
  {
   "cell_type": "code",
   "execution_count": 16,
   "id": "83a4a863",
   "metadata": {},
   "outputs": [
    {
     "data": {
      "text/html": [
       "<div>\n",
       "<style scoped>\n",
       "    .dataframe tbody tr th:only-of-type {\n",
       "        vertical-align: middle;\n",
       "    }\n",
       "\n",
       "    .dataframe tbody tr th {\n",
       "        vertical-align: top;\n",
       "    }\n",
       "\n",
       "    .dataframe thead th {\n",
       "        text-align: right;\n",
       "    }\n",
       "</style>\n",
       "<table border=\"1\" class=\"dataframe\">\n",
       "  <thead>\n",
       "    <tr style=\"text-align: right;\">\n",
       "      <th></th>\n",
       "      <th>YEAR</th>\n",
       "      <th>MONTH</th>\n",
       "      <th>ROHLIK_AVG_PRICE</th>\n",
       "      <th>YEAR_MONTH</th>\n",
       "    </tr>\n",
       "  </thead>\n",
       "  <tbody>\n",
       "    <tr>\n",
       "      <th>28</th>\n",
       "      <td>2022</td>\n",
       "      <td>5</td>\n",
       "      <td>20.020000</td>\n",
       "      <td>2022/5</td>\n",
       "    </tr>\n",
       "    <tr>\n",
       "      <th>29</th>\n",
       "      <td>2022</td>\n",
       "      <td>6</td>\n",
       "      <td>22.775000</td>\n",
       "      <td>2022/6</td>\n",
       "    </tr>\n",
       "    <tr>\n",
       "      <th>30</th>\n",
       "      <td>2022</td>\n",
       "      <td>7</td>\n",
       "      <td>21.492233</td>\n",
       "      <td>2022/7</td>\n",
       "    </tr>\n",
       "    <tr>\n",
       "      <th>31</th>\n",
       "      <td>2022</td>\n",
       "      <td>8</td>\n",
       "      <td>21.298058</td>\n",
       "      <td>2022/8</td>\n",
       "    </tr>\n",
       "    <tr>\n",
       "      <th>32</th>\n",
       "      <td>2022</td>\n",
       "      <td>9</td>\n",
       "      <td>21.686408</td>\n",
       "      <td>2022/9</td>\n",
       "    </tr>\n",
       "    <tr>\n",
       "      <th>0</th>\n",
       "      <td>2022</td>\n",
       "      <td>10</td>\n",
       "      <td>21.711540</td>\n",
       "      <td>2022/10</td>\n",
       "    </tr>\n",
       "    <tr>\n",
       "      <th>1</th>\n",
       "      <td>2022</td>\n",
       "      <td>11</td>\n",
       "      <td>21.800812</td>\n",
       "      <td>2022/11</td>\n",
       "    </tr>\n",
       "    <tr>\n",
       "      <th>2</th>\n",
       "      <td>2022</td>\n",
       "      <td>12</td>\n",
       "      <td>21.890084</td>\n",
       "      <td>2022/12</td>\n",
       "    </tr>\n",
       "    <tr>\n",
       "      <th>3</th>\n",
       "      <td>2023</td>\n",
       "      <td>1</td>\n",
       "      <td>21.919412</td>\n",
       "      <td>2023/1</td>\n",
       "    </tr>\n",
       "    <tr>\n",
       "      <th>4</th>\n",
       "      <td>2023</td>\n",
       "      <td>2</td>\n",
       "      <td>22.008684</td>\n",
       "      <td>2023/2</td>\n",
       "    </tr>\n",
       "    <tr>\n",
       "      <th>5</th>\n",
       "      <td>2023</td>\n",
       "      <td>3</td>\n",
       "      <td>22.097956</td>\n",
       "      <td>2023/3</td>\n",
       "    </tr>\n",
       "    <tr>\n",
       "      <th>6</th>\n",
       "      <td>2023</td>\n",
       "      <td>4</td>\n",
       "      <td>22.187228</td>\n",
       "      <td>2023/4</td>\n",
       "    </tr>\n",
       "    <tr>\n",
       "      <th>7</th>\n",
       "      <td>2023</td>\n",
       "      <td>5</td>\n",
       "      <td>22.276500</td>\n",
       "      <td>2023/5</td>\n",
       "    </tr>\n",
       "    <tr>\n",
       "      <th>8</th>\n",
       "      <td>2023</td>\n",
       "      <td>6</td>\n",
       "      <td>22.365772</td>\n",
       "      <td>2023/6</td>\n",
       "    </tr>\n",
       "    <tr>\n",
       "      <th>9</th>\n",
       "      <td>2023</td>\n",
       "      <td>7</td>\n",
       "      <td>22.455044</td>\n",
       "      <td>2023/7</td>\n",
       "    </tr>\n",
       "    <tr>\n",
       "      <th>10</th>\n",
       "      <td>2023</td>\n",
       "      <td>8</td>\n",
       "      <td>22.544316</td>\n",
       "      <td>2023/8</td>\n",
       "    </tr>\n",
       "    <tr>\n",
       "      <th>11</th>\n",
       "      <td>2023</td>\n",
       "      <td>9</td>\n",
       "      <td>22.633588</td>\n",
       "      <td>2023/9</td>\n",
       "    </tr>\n",
       "    <tr>\n",
       "      <th>12</th>\n",
       "      <td>2023</td>\n",
       "      <td>10</td>\n",
       "      <td>22.722860</td>\n",
       "      <td>2023/10</td>\n",
       "    </tr>\n",
       "    <tr>\n",
       "      <th>13</th>\n",
       "      <td>2023</td>\n",
       "      <td>11</td>\n",
       "      <td>22.812132</td>\n",
       "      <td>2023/11</td>\n",
       "    </tr>\n",
       "    <tr>\n",
       "      <th>14</th>\n",
       "      <td>2023</td>\n",
       "      <td>12</td>\n",
       "      <td>22.901404</td>\n",
       "      <td>2023/12</td>\n",
       "    </tr>\n",
       "  </tbody>\n",
       "</table>\n",
       "</div>"
      ],
      "text/plain": [
       "    YEAR  MONTH  ROHLIK_AVG_PRICE YEAR_MONTH\n",
       "28  2022      5         20.020000     2022/5\n",
       "29  2022      6         22.775000     2022/6\n",
       "30  2022      7         21.492233     2022/7\n",
       "31  2022      8         21.298058     2022/8\n",
       "32  2022      9         21.686408     2022/9\n",
       "0   2022     10         21.711540    2022/10\n",
       "1   2022     11         21.800812    2022/11\n",
       "2   2022     12         21.890084    2022/12\n",
       "3   2023      1         21.919412     2023/1\n",
       "4   2023      2         22.008684     2023/2\n",
       "5   2023      3         22.097956     2023/3\n",
       "6   2023      4         22.187228     2023/4\n",
       "7   2023      5         22.276500     2023/5\n",
       "8   2023      6         22.365772     2023/6\n",
       "9   2023      7         22.455044     2023/7\n",
       "10  2023      8         22.544316     2023/8\n",
       "11  2023      9         22.633588     2023/9\n",
       "12  2023     10         22.722860    2023/10\n",
       "13  2023     11         22.812132    2023/11\n",
       "14  2023     12         22.901404    2023/12"
      ]
     },
     "execution_count": 16,
     "metadata": {},
     "output_type": "execute_result"
    }
   ],
   "source": [
    "df = pd.concat([data, X_val])\n",
    "df.tail(20)"
   ]
  },
  {
   "cell_type": "code",
   "execution_count": 17,
   "id": "808c452d",
   "metadata": {},
   "outputs": [
    {
     "data": {
      "image/png": "[encoded data removed]",
      "text/plain": [
       "<Figure size 640x480 with 1 Axes>"
      ]
     },
     "metadata": {},
     "output_type": "display_data"
    }
   ],
   "source": [
    "plt.plot(df['YEAR_MONTH'], df['ROHLIK_AVG_PRICE'])\n",
    "plt.show()"
   ]
  },
  {
   "cell_type": "code",
   "execution_count": null,
   "id": "f6b6e643",
   "metadata": {},
   "outputs": [],
   "source": []
  }
 ],
 "metadata": {
  "kernelspec": {
   "display_name": "Python 3.10.4 64-bit",
   "language": "python",
   "name": "python3"
  },
  "language_info": {
   "codemirror_mode": {
    "name": "ipython",
    "version": 3
   },
   "file_extension": ".py",
   "mimetype": "text/x-python",
   "name": "python",
   "nbconvert_exporter": "python",
   "pygments_lexer": "ipython3",
   "version": "3.10.4"
  },
  "vscode": {
   "interpreter": {
    "hash": "aee8b7b246df8f9039afb4144a1f6fd8d2ca17a180786b69acc140d282b71a49"
   }
  }
 },
 "nbformat": 4,
 "nbformat_minor": 5
}
